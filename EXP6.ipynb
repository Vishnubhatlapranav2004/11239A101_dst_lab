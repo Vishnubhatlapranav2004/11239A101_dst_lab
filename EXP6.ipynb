{
 "cells": [
  {
   "cell_type": "code",
   "execution_count": 1,
   "id": "f27a1b03",
   "metadata": {},
   "outputs": [],
   "source": [
    "import pandas as pd\n",
    "\n",
    "# Load the Pima Indians Diabetes dataset\n",
    "pima_data = pd.read_csv('pima-indians-diabetes.csv')\n",
    "\n",
    "# Load the UCI Diabetes dataset (replace the URL with the actual file path or download link)\n",
    "uci_data = pd.read_csv('diabetes.csv')\n"
   ]
  },
  {
   "cell_type": "markdown",
   "id": "ea8a7bd3",
   "metadata": {},
   "source": [
    "A.Frequency Distribution, Mean, Median, Mode, Variance, Standard Deviation, Skewness, and Kurtosis"
   ]
  },
  {
   "cell_type": "code",
   "execution_count": 2,
   "id": "21afeef8",
   "metadata": {},
   "outputs": [
    {
     "name": "stdout",
     "output_type": "stream",
     "text": [
      "Pima Diabetes Stats:\n",
      "                           count        mean         std     min       25%  \\\n",
      "Pregnancies               768.0    3.845052    3.369578   0.000   1.00000   \n",
      "Glucose                   768.0  120.894531   31.972618   0.000  99.00000   \n",
      "BloodPressure             768.0   69.105469   19.355807   0.000  62.00000   \n",
      "SkinThickness             768.0   20.536458   15.952218   0.000   0.00000   \n",
      "Insulin                   768.0   79.799479  115.244002   0.000   0.00000   \n",
      "BMI                       768.0   31.992578    7.884160   0.000  27.30000   \n",
      "DiabetesPedigreeFunction  768.0    0.471876    0.331329   0.078   0.24375   \n",
      "Age                       768.0   33.240885   11.760232  21.000  24.00000   \n",
      "Outcome                   768.0    0.348958    0.476951   0.000   0.00000   \n",
      "\n",
      "                               50%        75%     max    mode      variance  \\\n",
      "Pregnancies                 3.0000    6.00000   17.00   1.000     11.354056   \n",
      "Glucose                   117.0000  140.25000  199.00  99.000   1022.248314   \n",
      "BloodPressure              72.0000   80.00000  122.00  70.000    374.647271   \n",
      "SkinThickness              23.0000   32.00000   99.00   0.000    254.473245   \n",
      "Insulin                    30.5000  127.25000  846.00   0.000  13281.180078   \n",
      "BMI                        32.0000   36.60000   67.10  32.000     62.159984   \n",
      "DiabetesPedigreeFunction    0.3725    0.62625    2.42   0.254      0.109779   \n",
      "Age                        29.0000   41.00000   81.00  22.000    138.303046   \n",
      "Outcome                     0.0000    1.00000    1.00   0.000      0.227483   \n",
      "\n",
      "                          skewness  kurtosis  \n",
      "Pregnancies               0.901674  0.159220  \n",
      "Glucose                   0.173754  0.640780  \n",
      "BloodPressure            -1.843608  5.180157  \n",
      "SkinThickness             0.109372 -0.520072  \n",
      "Insulin                   2.272251  7.214260  \n",
      "BMI                      -0.428982  3.290443  \n",
      "DiabetesPedigreeFunction  1.919911  5.594954  \n",
      "Age                       1.129597  0.643159  \n",
      "Outcome                   0.635017 -1.600930  \n",
      "\n",
      "UCI Diabetes Stats:\n",
      "                           count        mean         std     min       25%  \\\n",
      "Pregnancies               768.0    3.845052    3.369578   0.000   1.00000   \n",
      "Glucose                   768.0  120.894531   31.972618   0.000  99.00000   \n",
      "BloodPressure             768.0   69.105469   19.355807   0.000  62.00000   \n",
      "SkinThickness             768.0   20.536458   15.952218   0.000   0.00000   \n",
      "Insulin                   768.0   79.799479  115.244002   0.000   0.00000   \n",
      "BMI                       768.0   31.992578    7.884160   0.000  27.30000   \n",
      "DiabetesPedigreeFunction  768.0    0.471876    0.331329   0.078   0.24375   \n",
      "Age                       768.0   33.240885   11.760232  21.000  24.00000   \n",
      "Outcome                   768.0    0.348958    0.476951   0.000   0.00000   \n",
      "\n",
      "                               50%        75%     max    mode      variance  \\\n",
      "Pregnancies                 3.0000    6.00000   17.00   1.000     11.354056   \n",
      "Glucose                   117.0000  140.25000  199.00  99.000   1022.248314   \n",
      "BloodPressure              72.0000   80.00000  122.00  70.000    374.647271   \n",
      "SkinThickness              23.0000   32.00000   99.00   0.000    254.473245   \n",
      "Insulin                    30.5000  127.25000  846.00   0.000  13281.180078   \n",
      "BMI                        32.0000   36.60000   67.10  32.000     62.159984   \n",
      "DiabetesPedigreeFunction    0.3725    0.62625    2.42   0.254      0.109779   \n",
      "Age                        29.0000   41.00000   81.00  22.000    138.303046   \n",
      "Outcome                     0.0000    1.00000    1.00   0.000      0.227483   \n",
      "\n",
      "                          skewness  kurtosis  \n",
      "Pregnancies               0.901674  0.159220  \n",
      "Glucose                   0.173754  0.640780  \n",
      "BloodPressure            -1.843608  5.180157  \n",
      "SkinThickness             0.109372 -0.520072  \n",
      "Insulin                   2.272251  7.214260  \n",
      "BMI                      -0.428982  3.290443  \n",
      "DiabetesPedigreeFunction  1.919911  5.594954  \n",
      "Age                       1.129597  0.643159  \n",
      "Outcome                   0.635017 -1.600930  \n"
     ]
    }
   ],
   "source": [
    "# Univariate analysis for Pima Indians Diabetes dataset\n",
    "pima_stats = pima_data.describe().transpose()\n",
    "pima_stats['mode'] = pima_data.mode().iloc[0]\n",
    "pima_stats['variance'] = pima_data.var()\n",
    "pima_stats['skewness'] = pima_data.skew()\n",
    "pima_stats['kurtosis'] = pima_data.kurt()\n",
    "\n",
    "# Univariate analysis for UCI Diabetes dataset\n",
    "uci_stats = uci_data.describe().transpose()\n",
    "uci_stats['mode'] = uci_data.mode().iloc[0]\n",
    "uci_stats['variance'] = uci_data.var()\n",
    "uci_stats['skewness'] = uci_data.skew()\n",
    "uci_stats['kurtosis'] = uci_data.kurt()\n",
    "\n",
    "# Output summary\n",
    "print(\"Pima Diabetes Stats:\\n\", pima_stats)\n",
    "print(\"\\nUCI Diabetes Stats:\\n\", uci_stats)\n"
   ]
  },
  {
   "cell_type": "markdown",
   "id": "4cd1fa7b",
   "metadata": {},
   "source": [
    "B.Bivariate Analysis:\n",
    "Linear Regression Modeling"
   ]
  },
  {
   "cell_type": "code",
   "execution_count": 3,
   "id": "249ad3e8",
   "metadata": {},
   "outputs": [],
   "source": [
    "from sklearn.linear_model import LinearRegression\n",
    "from sklearn.model_selection import train_test_split\n",
    "\n",
    "# Example: Linear regression on Pima dataset (predicting 'Pregnancies' based on other features)\n",
    "X = pima_data.drop('Pregnancies', axis=1)\n",
    "y = pima_data['Pregnancies']\n",
    "\n",
    "X_train, X_test, y_train, y_test = train_test_split(X, y, test_size=0.2, random_state=42)\n",
    "\n",
    "# Fit the model\n",
    "lin_reg_model = LinearRegression()\n",
    "lin_reg_model.fit(X_train, y_train)\n",
    "\n",
    "# Predictions and evaluation\n",
    "y_pred = lin_reg_model.predict(X_test)\n"
   ]
  },
  {
   "cell_type": "markdown",
   "id": "2b1ce8c2",
   "metadata": {},
   "source": [
    "Logistic Regression:"
   ]
  },
  {
   "cell_type": "code",
   "execution_count": 4,
   "id": "b910a13d",
   "metadata": {},
   "outputs": [
    {
     "name": "stdout",
     "output_type": "stream",
     "text": [
      "Accuracy: 0.7532467532467533\n",
      "Confusion Matrix:\n",
      " [[79 20]\n",
      " [18 37]]\n"
     ]
    }
   ],
   "source": [
    "from sklearn.linear_model import LogisticRegression\n",
    "from sklearn.metrics import accuracy_score, confusion_matrix\n",
    "from sklearn.model_selection import train_test_split\n",
    "from sklearn.preprocessing import StandardScaler\n",
    "\n",
    "# Logistic regression on Pima dataset (predicting 'Outcome' - diabetes)\n",
    "X = pima_data.drop('Outcome', axis=1)\n",
    "y = pima_data['Outcome']\n",
    "\n",
    "# Split the data\n",
    "X_train, X_test, y_train, y_test = train_test_split(X, y, test_size=0.2, random_state=42)\n",
    "\n",
    "# Scale the data\n",
    "scaler = StandardScaler()\n",
    "X_train_scaled = scaler.fit_transform(X_train)\n",
    "X_test_scaled = scaler.transform(X_test)\n",
    "\n",
    "# Fit the model with increased iterations and a solver option\n",
    "log_reg_model = LogisticRegression(max_iter=1000, solver='lbfgs')  # You can try other solvers like 'saga' or 'liblinear'\n",
    "log_reg_model.fit(X_train_scaled, y_train)\n",
    "\n",
    "# Predictions and evaluation\n",
    "y_pred = log_reg_model.predict(X_test_scaled)\n",
    "print(f\"Accuracy: {accuracy_score(y_test, y_pred)}\")\n",
    "print(f\"Confusion Matrix:\\n {confusion_matrix(y_test, y_pred)}\")\n"
   ]
  },
  {
   "cell_type": "markdown",
   "id": "f837879a",
   "metadata": {},
   "source": [
    "C. Multiple Regression Analysis"
   ]
  },
  {
   "cell_type": "code",
   "execution_count": 5,
   "id": "73793528",
   "metadata": {},
   "outputs": [],
   "source": [
    "from sklearn.linear_model import LinearRegression\n",
    "\n",
    "# Multiple Regression on Pima dataset (predicting 'Glucose' using other features)\n",
    "X = pima_data.drop('Glucose', axis=1)\n",
    "y = pima_data['Glucose']\n",
    "\n",
    "X_train, X_test, y_train, y_test = train_test_split(X, y, test_size=0.2, random_state=42)\n",
    "\n",
    "# Fit the model\n",
    "multiple_reg_model = LinearRegression()\n",
    "multiple_reg_model.fit(X_train, y_train)\n",
    "\n",
    "# Predictions and evaluation\n",
    "y_pred = multiple_reg_model.predict(X_test)\n"
   ]
  },
  {
   "cell_type": "markdown",
   "id": "150934dc",
   "metadata": {},
   "source": [
    "Comparison of Results"
   ]
  },
  {
   "cell_type": "code",
   "execution_count": 11,
   "id": "3b041893",
   "metadata": {},
   "outputs": [
    {
     "name": "stdout",
     "output_type": "stream",
     "text": [
      "      Metric                                       Pima Dataset  \\\n",
      "0       Mean  Pregnancies                   3.845052\n",
      "Glucose...   \n",
      "1     Median  Pregnancies                   3.0000\n",
      "Glucose  ...   \n",
      "2       Mode  Pregnancies                  1.000\n",
      "Glucose    ...   \n",
      "3   Variance  Pregnancies                    11.354056\n",
      "Gluco...   \n",
      "4  Std. Dev.  Pregnancies                   3.369578\n",
      "Glucose...   \n",
      "5   Skewness  Pregnancies                 0.901674\n",
      "Glucose  ...   \n",
      "6   Kurtosis  Pregnancies                 0.159220\n",
      "Glucose  ...   \n",
      "7   Accuracy                                               0.85   \n",
      "\n",
      "                                         UCI Dataset  \n",
      "0  Pregnancies                   3.845052\n",
      "Glucose...  \n",
      "1  Pregnancies                   3.0000\n",
      "Glucose  ...  \n",
      "2  Pregnancies                  1.000\n",
      "Glucose    ...  \n",
      "3  Pregnancies                    11.354056\n",
      "Gluco...  \n",
      "4  Pregnancies                   3.369578\n",
      "Glucose...  \n",
      "5  Pregnancies                 0.901674\n",
      "Glucose  ...  \n",
      "6  Pregnancies                 0.159220\n",
      "Glucose  ...  \n",
      "7                                                0.9  \n"
     ]
    }
   ],
   "source": [
    "import pandas as pd\n",
    "\n",
    "# Define the order you want the metrics to be in\n",
    "metric_order = [\"Mean\", \"Median\", \"Mode\", \"Variance\", \"Std. Dev.\", \"Skewness\", \"Kurtosis\", \"Accuracy\"]\n",
    "\n",
    "# Create the dictionary\n",
    "comparison = {\n",
    "    \"Metric\": metric_order,\n",
    "    \"Pima Dataset\": [pima_stats['mean'], pima_stats['50%'], pima_stats['mode'], pima_stats['variance'], pima_stats['std'], pima_stats['skewness'], pima_stats['kurtosis'], accuracy_pima],\n",
    "    \"UCI Dataset\": [uci_stats['mean'], uci_stats['50%'], uci_stats['mode'], uci_stats['variance'], uci_stats['std'], uci_stats['skewness'], uci_stats['kurtosis'], accuracy_uci]\n",
    "}\n",
    "\n",
    "# Create the DataFrame\n",
    "comparison_df = pd.DataFrame(comparison)\n",
    "\n",
    "# Print the DataFrame\n",
    "print(comparison_df)\n",
    "\n"
   ]
  }
 ],
 "metadata": {
  "kernelspec": {
   "display_name": "Python 3",
   "language": "python",
   "name": "python3"
  },
  "language_info": {
   "codemirror_mode": {
    "name": "ipython",
    "version": 3
   },
   "file_extension": ".py",
   "mimetype": "text/x-python",
   "name": "python",
   "nbconvert_exporter": "python",
   "pygments_lexer": "ipython3",
   "version": "3.12.4"
  }
 },
 "nbformat": 4,
 "nbformat_minor": 5
}
