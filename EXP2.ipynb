{
 "cells": [
  {
   "cell_type": "code",
   "execution_count": null,
   "id": "cf5c1b44",
   "metadata": {},
   "outputs": [
    {
     "name": "stdout",
     "output_type": "stream",
     "text": [
      "   StudentID           Name    Subject  Marks Grade\n",
      "0          1  Alice Johnson    Physics     55     F\n",
      "1          2      Bob Smith  Chemistry     91     A\n",
      "2          3    Charlie Lee       Math     66     D\n",
      "3          4    Daisy Evans    English     91     A\n",
      "4          5    Ethan Brown    English     77     C\n",
      "<class 'pandas.core.frame.DataFrame'>\n",
      "RangeIndex: 20 entries, 0 to 19\n",
      "Data columns (total 5 columns):\n",
      " #   Column     Non-Null Count  Dtype \n",
      "---  ------     --------------  ----- \n",
      " 0   StudentID  20 non-null     int64 \n",
      " 1   Name       20 non-null     object\n",
      " 2   Subject    20 non-null     object\n",
      " 3   Marks      20 non-null     int64 \n",
      " 4   Grade      20 non-null     object\n",
      "dtypes: int64(2), object(3)\n",
      "memory usage: 932.0+ bytes\n",
      "None\n",
      "       StudentID      Marks\n",
      "count   20.00000  20.000000\n",
      "mean    10.50000  72.350000\n",
      "std      5.91608  15.163235\n",
      "min      1.00000  50.000000\n",
      "25%      5.75000  56.500000\n",
      "50%     10.50000  73.500000\n",
      "75%     15.25000  82.000000\n",
      "max     20.00000  97.000000\n",
      "Missing values handled.\n",
      "   StudentID           Name    Subject  Marks Grade\n",
      "0          1  Alice Johnson    Physics     55     F\n",
      "1          2      Bob Smith  Chemistry     91     A\n",
      "2          3    Charlie Lee       Math     66     D\n",
      "3          4    Daisy Evans    English     91     A\n",
      "4          5    Ethan Brown    English     77     C\n",
      "<class 'pandas.core.frame.DataFrame'>\n",
      "RangeIndex: 20 entries, 0 to 19\n",
      "Data columns (total 5 columns):\n",
      " #   Column     Non-Null Count  Dtype \n",
      "---  ------     --------------  ----- \n",
      " 0   StudentID  20 non-null     int64 \n",
      " 1   Name       20 non-null     object\n",
      " 2   Subject    20 non-null     object\n",
      " 3   Marks      20 non-null     int64 \n",
      " 4   Grade      20 non-null     object\n",
      "dtypes: int64(2), object(3)\n",
      "memory usage: 932.0+ bytes\n",
      "None\n",
      "       StudentID      Marks\n",
      "count   20.00000  20.000000\n",
      "mean    10.50000  72.350000\n",
      "std      5.91608  15.163235\n",
      "min      1.00000  50.000000\n",
      "25%      5.75000  56.500000\n",
      "50%     10.50000  73.500000\n",
      "75%     15.25000  82.000000\n",
      "max     20.00000  97.000000\n",
      "Missing values handled.\n"
     ]
    },
    {
     "name": "stderr",
     "output_type": "stream",
     "text": [
      "C:\\Users\\vsrir\\AppData\\Local\\Temp\\ipykernel_21804\\1507530687.py:26: FutureWarning: A value is trying to be set on a copy of a DataFrame or Series through chained assignment using an inplace method.\n",
      "The behavior will change in pandas 3.0. This inplace method will never work because the intermediate object on which we are setting values always behaves as a copy.\n",
      "\n",
      "For example, when doing 'df[col].method(value, inplace=True)', try using 'df.method({col: value}, inplace=True)' or df[col] = df[col].method(value) instead, to perform the operation inplace on the original object.\n",
      "\n",
      "\n",
      "  df['Marks'].fillna(df['Marks'].mean(), inplace=True)\n"
     ]
    }
   ],
   "source": [
    "import pandas as pd\n",
    "\n",
    "df = pd.read_csv('student_grades.csv')  # Replace with your fileimport pandas as pd\n",
    "\n",
    "# Display the first few rows\n",
    "print(df.head())\n",
    "\n",
    "# Show information about the DataFrame\n",
    "print(df.info())\n",
    "\n",
    "# Show statistical description\n",
    "print(df.describe())\n",
    "\n",
    "# Simple preprocessing: handle missing values in 'Marks' column\n",
    "df['Marks'] = df['Marks'].fillna(df['Marks'].mean())\n",
    "print(\"Missing values handled.\")\n",
    "\n",
    "print(df.head())\n",
    "print(df.info())\n",
    "print(df.describe())\n",
    "\n",
    "# Simple preprocessing\n",
    "df['Marks'].fillna(df['Marks'].mean(), inplace=True)\n",
    "print(\"Missing values handled.\")\n"
   ]
  },
  {
   "cell_type": "code",
   "execution_count": null,
   "id": "f1d37401",
   "metadata": {},
   "outputs": [],
   "source": []
  }
 ],
 "metadata": {
  "kernelspec": {
   "display_name": "Python 3",
   "language": "python",
   "name": "python3"
  },
  "language_info": {
   "codemirror_mode": {
    "name": "ipython",
    "version": 3
   },
   "file_extension": ".py",
   "mimetype": "text/x-python",
   "name": "python",
   "nbconvert_exporter": "python",
   "pygments_lexer": "ipython3",
   "version": "3.12.4"
  }
 },
 "nbformat": 4,
 "nbformat_minor": 5
}
