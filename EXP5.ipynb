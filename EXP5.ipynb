{
 "cells": [
  {
   "cell_type": "code",
   "execution_count": 1,
   "id": "b7d339a9",
   "metadata": {},
   "outputs": [
    {
     "name": "stdout",
     "output_type": "stream",
     "text": [
      "Optimized parameters (theta): [-0.05522946 -0.05800936 -0.10833008]\n"
     ]
    }
   ],
   "source": [
    "import numpy as np\n",
    "\n",
    "# Sigmoid function to predict probability\n",
    "def sigmoid(z):\n",
    "    return 1 / (1 + np.exp(-z))\n",
    "\n",
    "# Cost function with regularization\n",
    "def cost_function_reg(theta, X, y, lambda_):\n",
    "    m = len(y)  # number of training examples\n",
    "    h = sigmoid(np.dot(X, theta))  # prediction\n",
    "    \n",
    "    # Regularized cost\n",
    "    cost = (1/m) * (-y.T.dot(np.log(h)) - (1 - y).T.dot(np.log(1 - h))) + (lambda_ / (2 * m)) * np.sum(np.square(theta[1:]))\n",
    "    \n",
    "    return cost\n",
    "\n",
    "# Gradient with regularization\n",
    "def gradient_reg(theta, X, y, lambda_):\n",
    "    m = len(y)\n",
    "    h = sigmoid(np.dot(X, theta))  # prediction\n",
    "    \n",
    "    grad = (1/m) * np.dot(X.T, (h - y))  # Gradient of the cost function\n",
    "    grad[1:] += (lambda_ / m) * theta[1:]  # Add regularization (skip the first parameter)\n",
    "    \n",
    "    return grad\n",
    "\n",
    "# Training function using gradient descent\n",
    "def train_logistic_regression(X, y, lambda_, alpha=0.01, iterations=400):\n",
    "    theta = np.zeros(X.shape[1])  # Initialize theta to zeros\n",
    "    \n",
    "    # Gradient descent\n",
    "    for _ in range(iterations):\n",
    "        grad = gradient_reg(theta, X, y, lambda_)\n",
    "        theta = theta - alpha * grad  # Update the parameters\n",
    "    \n",
    "    return theta\n",
    "\n",
    "# Example usage:\n",
    "# X: Feature matrix (add intercept column of 1s manually)\n",
    "# y: Labels\n",
    "# lambda_: Regularization parameter\n",
    "\n",
    "X = np.array([[1, 2, 3], [1, 3, 4], [1, 4, 5]])  # Example features (with intercept term)\n",
    "y = np.array([0, 1, 0])  # Example labels\n",
    "lambda_ = 0.1  # Regularization parameter\n",
    "\n",
    "# Train the model\n",
    "theta = train_logistic_regression(X, y, lambda_)\n",
    "print(\"Optimized parameters (theta):\", theta)\n"
   ]
  }
 ],
 "metadata": {
  "kernelspec": {
   "display_name": "Python 3",
   "language": "python",
   "name": "python3"
  },
  "language_info": {
   "codemirror_mode": {
    "name": "ipython",
    "version": 3
   },
   "file_extension": ".py",
   "mimetype": "text/x-python",
   "name": "python",
   "nbconvert_exporter": "python",
   "pygments_lexer": "ipython3",
   "version": "3.12.4"
  }
 },
 "nbformat": 4,
 "nbformat_minor": 5
}
